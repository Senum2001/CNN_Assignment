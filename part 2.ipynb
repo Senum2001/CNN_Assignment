{
 "cells": [
  {
   "cell_type": "code",
   "execution_count": 15,
   "metadata": {},
   "outputs": [],
   "source": [
    "import torch\n",
    "import os\n",
    "import shutil\n",
    "import torch.nn as nn\n",
    "import torch.optim as optim\n",
    "from torchvision import models, transforms\n",
    "from torch.utils.data import DataLoader\n",
    "from sklearn.model_selection import train_test_split\n",
    "# Device configuration\n",
    "device = torch.device(\"cuda\" if torch.cuda.is_available() else \"cpu\")\n"
   ]
  },
  {
   "cell_type": "code",
   "execution_count": 16,
   "metadata": {},
   "outputs": [
    {
     "name": "stdout",
     "output_type": "stream",
     "text": [
      "Dataset split into train, valid, and test sets.\n"
     ]
    }
   ],
   "source": [
    "from torchvision.datasets import ImageFolder\n",
    "\n",
    "# Data transformations for training and testing\n",
    "transform = transforms.Compose([\n",
    "    transforms.Resize((128, 128)),  # Resize images to match model input size\n",
    "    transforms.ToTensor(),\n",
    "    transforms.Normalize(mean=[0.485, 0.456, 0.406], std=[0.229, 0.224, 0.225])  # Normalize for pretrained models\n",
    "])\n",
    "base_dir = 'realwaste-main/RealWaste'\n",
    "\n",
    "train_dir = 'realwaste_data/train'\n",
    "valid_dir = 'realwaste_data/valid'\n",
    "test_dir = 'realwaste_data/test'\n",
    "\n",
    "os.makedirs(train_dir, exist_ok=True)\n",
    "os.makedirs(valid_dir, exist_ok=True)\n",
    "os.makedirs(test_dir, exist_ok=True)\n",
    "\n",
    "# Class folders\n",
    "classes = os.listdir(base_dir)\n",
    "\n",
    "for cls in classes:\n",
    "    class_path = os.path.join(base_dir, cls)\n",
    "    if os.path.isdir(class_path):  # Ensure it's a directory\n",
    "        images = os.listdir(class_path)\n",
    "        \n",
    "        # Split into train, valid, and test (70%, 20%, 10%)\n",
    "        train_imgs, temp_imgs = train_test_split(images, test_size=0.3, random_state=42)\n",
    "        valid_imgs, test_imgs = train_test_split(temp_imgs, test_size=0.33, random_state=42)  # 0.33 * 0.3 ≈ 0.1\n",
    "\n",
    "        # Create class subdirectories\n",
    "        os.makedirs(os.path.join(train_dir, cls), exist_ok=True)\n",
    "        os.makedirs(os.path.join(valid_dir, cls), exist_ok=True)\n",
    "        os.makedirs(os.path.join(test_dir, cls), exist_ok=True)\n",
    "\n",
    "        # Move files\n",
    "        for img in train_imgs:\n",
    "            shutil.move(os.path.join(class_path, img), os.path.join(train_dir, cls, img))\n",
    "        for img in valid_imgs:\n",
    "            shutil.move(os.path.join(class_path, img), os.path.join(valid_dir, cls, img))\n",
    "        for img in test_imgs:\n",
    "            shutil.move(os.path.join(class_path, img), os.path.join(test_dir, cls, img))\n",
    "\n",
    "print(\"Dataset split into train, valid, and test sets.\")\n",
    "# Load datasets\n",
    "train_dataset = ImageFolder(train_dir, transform=transform)\n",
    "valid_dataset = ImageFolder(valid_dir, transform=transform)\n",
    "test_dataset = ImageFolder(test_dir, transform=transform)\n",
    "\n",
    "train_loader = DataLoader(train_dataset, batch_size=32, shuffle=True)\n",
    "valid_loader = DataLoader(valid_dataset, batch_size=32, shuffle=False)\n",
    "test_loader = DataLoader(test_dataset, batch_size=32, shuffle=False)\n",
    "\n",
    "# Number of classes\n",
    "num_classes = len(train_dataset.classes)\n"
   ]
  },
  {
   "cell_type": "code",
   "execution_count": 17,
   "metadata": {},
   "outputs": [],
   "source": [
    "from torchvision.datasets import ImageFolder\n",
    "\n",
    "# Data transformations for training and testing\n",
    "transform = transforms.Compose([\n",
    "    transforms.Resize((128, 128)),  # Resize images to match model input size\n",
    "    transforms.ToTensor(),\n",
    "    transforms.Normalize(mean=[0.485, 0.456, 0.406], std=[0.229, 0.224, 0.225])  # Normalize for pretrained models\n",
    "])\n",
    "\n",
    "# Load datasets\n",
    "train_dataset = ImageFolder(train_dir, transform=transform)\n",
    "valid_dataset = ImageFolder(valid_dir, transform=transform)\n",
    "test_dataset = ImageFolder(test_dir, transform=transform)\n",
    "\n",
    "train_loader = DataLoader(train_dataset, batch_size=32, shuffle=True)\n",
    "valid_loader = DataLoader(valid_dataset, batch_size=32, shuffle=False)\n",
    "test_loader = DataLoader(test_dataset, batch_size=32, shuffle=False)\n",
    "\n",
    "# Number of classes\n",
    "num_classes = len(train_dataset.classes)\n"
   ]
  },
  {
   "cell_type": "code",
   "execution_count": 18,
   "metadata": {},
   "outputs": [
    {
     "name": "stderr",
     "output_type": "stream",
     "text": [
      "c:\\Users\\senum\\OneDrive\\Documents\\binary_deepfake_detection\\.conda\\Lib\\site-packages\\torchvision\\models\\_utils.py:208: UserWarning: The parameter 'pretrained' is deprecated since 0.13 and may be removed in the future, please use 'weights' instead.\n",
      "  warnings.warn(\n",
      "c:\\Users\\senum\\OneDrive\\Documents\\binary_deepfake_detection\\.conda\\Lib\\site-packages\\torchvision\\models\\_utils.py:223: UserWarning: Arguments other than a weight enum or `None` for 'weights' are deprecated since 0.13 and may be removed in the future. The current behavior is equivalent to passing `weights=ResNet18_Weights.IMAGENET1K_V1`. You can also use `weights=ResNet18_Weights.DEFAULT` to get the most up-to-date weights.\n",
      "  warnings.warn(msg)\n",
      "Downloading: \"https://download.pytorch.org/models/resnet18-f37072fd.pth\" to C:\\Users\\senum/.cache\\torch\\hub\\checkpoints\\resnet18-f37072fd.pth\n",
      "100%|██████████| 44.7M/44.7M [05:27<00:00, 143kB/s] \n",
      "c:\\Users\\senum\\OneDrive\\Documents\\binary_deepfake_detection\\.conda\\Lib\\site-packages\\torchvision\\models\\_utils.py:223: UserWarning: Arguments other than a weight enum or `None` for 'weights' are deprecated since 0.13 and may be removed in the future. The current behavior is equivalent to passing `weights=GoogLeNet_Weights.IMAGENET1K_V1`. You can also use `weights=GoogLeNet_Weights.DEFAULT` to get the most up-to-date weights.\n",
      "  warnings.warn(msg)\n",
      "Downloading: \"https://download.pytorch.org/models/googlenet-1378be20.pth\" to C:\\Users\\senum/.cache\\torch\\hub\\checkpoints\\googlenet-1378be20.pth\n",
      "100%|██████████| 49.7M/49.7M [00:44<00:00, 1.18MB/s]\n"
     ]
    }
   ],
   "source": [
    "# Function to fine-tune a model\n",
    "def fine_tune_model(pretrained_model, num_classes):\n",
    "    # Modify the final layer\n",
    "    for param in pretrained_model.parameters():\n",
    "        param.requires_grad = False  # Freeze all layers except the final layer\n",
    "    \n",
    "    # Replace the classifier layer to match the number of classes\n",
    "    if isinstance(pretrained_model, models.ResNet):\n",
    "        pretrained_model.fc = nn.Linear(pretrained_model.fc.in_features, num_classes)\n",
    "    elif isinstance(pretrained_model, models.GoogLeNet):\n",
    "        pretrained_model.fc = nn.Linear(pretrained_model.fc.in_features, num_classes)\n",
    "    \n",
    "    return pretrained_model.to(device)\n",
    "\n",
    "# Load ResNet and GoogLeNet models\n",
    "resnet_model = fine_tune_model(models.resnet18(pretrained=True), num_classes)\n",
    "googlenet_model = fine_tune_model(models.googlenet(pretrained=True), num_classes)\n"
   ]
  },
  {
   "cell_type": "code",
   "execution_count": 28,
   "metadata": {},
   "outputs": [],
   "source": [
    "# Define loss function and optimizer\n",
    "criterion = nn.CrossEntropyLoss()\n"
   ]
  },
  {
   "cell_type": "code",
   "execution_count": 29,
   "metadata": {},
   "outputs": [],
   "source": [
    "def train_model(model, train_loader, valid_loader, epochs, optimizer):\n",
    "    train_loss_hist = []\n",
    "    valid_loss_hist = []\n",
    "    \n",
    "    for epoch in range(epochs):\n",
    "        # Training phase\n",
    "        model.train()\n",
    "        running_loss = 0.0\n",
    "        for inputs, labels in train_loader:\n",
    "            inputs, labels = inputs.to(device), labels.to(device)\n",
    "            optimizer.zero_grad()\n",
    "            outputs = model(inputs)\n",
    "            loss = criterion(outputs, labels)\n",
    "            loss.backward()\n",
    "            optimizer.step()\n",
    "            running_loss += loss.item()\n",
    "        \n",
    "        train_loss = running_loss / len(train_loader)\n",
    "        train_loss_hist.append(train_loss)\n",
    "\n",
    "        # Validation phase\n",
    "        model.eval()\n",
    "        running_loss = 0.0\n",
    "        with torch.no_grad():\n",
    "            for inputs, labels in valid_loader:\n",
    "                inputs, labels = inputs.to(device), labels.to(device)\n",
    "                outputs = model(inputs)\n",
    "                loss = criterion(outputs, labels)\n",
    "                running_loss += loss.item()\n",
    "        \n",
    "        valid_loss = running_loss / len(valid_loader)\n",
    "        valid_loss_hist.append(valid_loss)\n",
    "        \n",
    "        print(f\"Epoch {epoch+1}/{epochs}, Train Loss: {train_loss:.4f}, Valid Loss: {valid_loss:.4f}\")\n",
    "    \n",
    "    # Return the loss history\n",
    "    return train_loss_hist, valid_loss_hist\n"
   ]
  },
  {
   "cell_type": "code",
   "execution_count": null,
   "metadata": {},
   "outputs": [
    {
     "name": "stdout",
     "output_type": "stream",
     "text": [
      "\n",
      "Training VGG:\n"
     ]
    },
    {
     "ename": "NameError",
     "evalue": "name 'train_model' is not defined",
     "output_type": "error",
     "traceback": [
      "\u001b[1;31m---------------------------------------------------------------------------\u001b[0m",
      "\u001b[1;31mNameError\u001b[0m                                 Traceback (most recent call last)",
      "Cell \u001b[1;32mIn[1], line 5\u001b[0m\n\u001b[0;32m      1\u001b[0m \u001b[38;5;66;03m# Assuming `vgg_model` is your fine-tuned VGG model\u001b[39;00m\n\u001b[0;32m      2\u001b[0m \u001b[38;5;66;03m# Assuming `vgg_optimizer` is the optimizer defined for the VGG model\u001b[39;00m\n\u001b[0;32m      4\u001b[0m \u001b[38;5;28mprint\u001b[39m(\u001b[38;5;124m\"\u001b[39m\u001b[38;5;130;01m\\n\u001b[39;00m\u001b[38;5;124mTraining VGG:\u001b[39m\u001b[38;5;124m\"\u001b[39m)\n\u001b[1;32m----> 5\u001b[0m vgg_train_loss, vgg_valid_loss \u001b[38;5;241m=\u001b[39m \u001b[43mtrain_model\u001b[49m(vgg_model, train_loader, valid_loader, epochs\u001b[38;5;241m=\u001b[39m\u001b[38;5;241m20\u001b[39m, optimizer\u001b[38;5;241m=\u001b[39mvgg_optimizer)\n",
      "\u001b[1;31mNameError\u001b[0m: name 'train_model' is not defined"
     ]
    }
   ],
   "source": [
    "# Train ResNet\n",
    "print(\"\\nTraining ResNet:\")\n",
    "resnet_train_loss, resnet_valid_loss = train_model(resnet_model, train_loader, valid_loader, epochs=20, optimizer=resnet_optimizer)\n",
    "\n",
    "# Train GoogLeNet\n",
    "# print(\"\\nTraining GoogLeNet:\")\n",
    "# googlenet_train_loss, googlenet_valid_loss = train_model(googlenet_model, train_loader, valid_loader, epochs=20, optimizer=googlenet_optimizer)\n"
   ]
  },
  {
   "cell_type": "code",
   "execution_count": 31,
   "metadata": {},
   "outputs": [
    {
     "data": {
      "image/png": "[encoded data removed]",
      "text/plain": [
       "<Figure size 1200x600 with 1 Axes>"
      ]
     },
     "metadata": {},
     "output_type": "display_data"
    }
   ],
   "source": [
    "import matplotlib.pyplot as plt\n",
    "\n",
    "plt.figure(figsize=(12, 6))\n",
    "plt.plot(resnet_train_loss, label=\"ResNet Train Loss\")\n",
    "plt.plot(resnet_valid_loss, label=\"ResNet Valid Loss\")\n",
    "#plt.plot(googlenet_train_loss, label=\"GoogLeNet Train Loss\")\n",
    "#plt.plot(googlenet_valid_loss, label=\"GoogLeNet Valid Loss\")\n",
    "plt.xlabel(\"Epochs\")\n",
    "plt.ylabel(\"Loss\")\n",
    "plt.legend()\n",
    "plt.title(\"Training and Validation Loss\")\n",
    "plt.show()\n"
   ]
  },
  {
   "cell_type": "code",
   "execution_count": 33,
   "metadata": {},
   "outputs": [
    {
     "name": "stdout",
     "output_type": "stream",
     "text": [
      "ResNet Test Accuracy: 71.85%\n"
     ]
    }
   ],
   "source": [
    "# Evaluate model accuracy\n",
    "def evaluate_model(model, test_loader):\n",
    "    model.eval()\n",
    "    correct = 0\n",
    "    total = 0\n",
    "    with torch.no_grad():\n",
    "        for inputs, labels in test_loader:\n",
    "            inputs, labels = inputs.to(device), labels.to(device)\n",
    "            outputs = model(inputs)\n",
    "            _, predicted = torch.max(outputs, 1)\n",
    "            total += labels.size(0)\n",
    "            correct += (predicted == labels).sum().item()\n",
    "    return 100 * correct / total\n",
    "\n",
    "resnet_test_accuracy = evaluate_model(resnet_model, test_loader)\n",
    "#googlenet_test_accuracy = evaluate_model(googlenet_model, test_loader)\n",
    "\n",
    "print(f\"ResNet Test Accuracy: {resnet_test_accuracy:.2f}%\")\n",
    "#print(f\"GoogLeNet Test Accuracy: {googlenet_test_accuracy:.2f}%\")\n"
   ]
  }
 ],
 "metadata": {
  "kernelspec": {
   "display_name": ".conda",
   "language": "python",
   "name": "python3"
  },
  "language_info": {
   "codemirror_mode": {
    "name": "ipython",
    "version": 3
   },
   "file_extension": ".py",
   "mimetype": "text/x-python",
   "name": "python",
   "nbconvert_exporter": "python",
   "pygments_lexer": "ipython3",
   "version": "3.12.7"
  }
 },
 "nbformat": 4,
 "nbformat_minor": 2
}
